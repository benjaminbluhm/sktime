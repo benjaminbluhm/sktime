{
 "cells": [
  {
   "cell_type": "markdown",
   "metadata": {},
   "source": [
    "# MLflow \n",
    "\n",
    "The sktime custom model flavor enables logging of sktime models in MLflow format via the `sktime.utils.mlflow_sktime.save_model()` and `sktime.utils.mlflow_sktime.log_model()` methods. These methods also add the `pyfunc` flavor to the MLflow Models that they produce, allowing the model to be interpreted as generic Python functions for inference via `sktime.utils.mlflow_sktime.pyfunc.load_model()`. This loaded PyFunc model can only be scored with a DataFrame input. You can also use the `sktime.utils.mlflow_sktime.load_model()` method to load MLflow Models with the sktime model flavor in native sktime formats.\n",
    "\n",
    "The `pyfunc` flavor of the model supports sktime predict methods `predict`,  `predict_interval`, `predict_quantiles` and `predict_var` for scitypes `\"Series\"` and `\"Panel\"`.\n",
    "\n",
    "The interface for utilizing a sktime model loaded as a `pyfunc` type for generating forecasts uses a *single-row* Pandas DataFrame configuration argument. The following columns in this configuration Pandas DataFrame are supported:\n",
    "\n",
    "\n",
    "* ``predict_method`` (optional) - a string (default: ``predict``) specifies the sktime predict method. \n",
    "    For example, if the objective is to compute prediction interval forecasts, set the column ``predict_method`` to ``predict_interval``.\n",
    "* ``X`` (optional) - exogenous regressor values as 2D or 3D numpy array of values for future time period events (default: ``None``). \n",
    "* ``fh`` (optional) - the forecasting horizon encoding the time stamps to be forecasted, optional (default: ``None``). \n",
    "* ``coverage`` (optional) - nominal coverage(s) of predictive interval(s) (default: ``0.90``), can only be used with ``predict_method=predict_interval``.\n",
    "* ``alpha`` (optional) - A probability or list of, at which quantile forecasts are computed (default: ``None``), can only be used with ``predict_method=predict_quantiles``.\n",
    "* ``cov`` (optional) - if True, computes covariance matrix forecast. if False, computes marginal variance forecasts. (default: ``False``), can only be used with ``predict_method=predict_var``.\n",
    "\n",
    "An example configuration for the ``pyfunc`` prediction interval forecast of a sktime model is shown below, with a forecast horizon of one to three periods and two prediction intervals:\n",
    "\n",
    "| predict_method      | fh | coverage    |\n",
    "| :---        |    :----   |          :--- |\n",
    "| predict_interval      | [1, 2, 3]      | [0.1, 0.9]   |\n",
    "\n",
    "Signature logging for sktime from a non-pyfunc artifact will not function correctly for `predict_interval` or `predict_quantiles`. The output of the native sktime model flavor for these methods is not a recognized signature type due to the MultiIndex column structure of the returned DataFrame. MLflow's ``infer_schema`` will function correctly if using the ``pyfunc`` flavor of the model, though."
   ]
  },
  {
   "cell_type": "markdown",
   "metadata": {},
   "source": [
    "## 1. Setup\n",
    "### 1.1 Config"
   ]
  },
  {
   "cell_type": "code",
   "execution_count": 23,
   "metadata": {},
   "outputs": [],
   "source": [
    "model_path = \"model\""
   ]
  },
  {
   "cell_type": "markdown",
   "metadata": {},
   "source": [
    "### 1.1 Imports"
   ]
  },
  {
   "cell_type": "code",
   "execution_count": 24,
   "metadata": {},
   "outputs": [],
   "source": [
    "import mlflow\n",
    "import pandas as pd\n",
    "\n",
    "from sktime.datasets import load_longley\n",
    "from sktime.datatypes import convert\n",
    "from sktime.forecasting.model_selection import temporal_train_test_split\n",
    "from sktime.forecasting.naive import NaiveForecaster\n",
    "from sktime.utils import mlflow_sktime"
   ]
  },
  {
   "cell_type": "markdown",
   "metadata": {},
   "source": [
    "### 1.2 Load sample data"
   ]
  },
  {
   "cell_type": "code",
   "execution_count": 25,
   "metadata": {},
   "outputs": [],
   "source": [
    "y, X = load_longley()\n",
    "y_train, y_test, X_train, X_test = temporal_train_test_split(y, X)\n",
    "\n",
    "# For utilizing sktime model in pyfunc flavor the exogenous regressor must be passed as a numpy array to configuration DataFrame  # noqa: E501\n",
    "X_test_array = convert(X_test, \"pd.DataFrame\", \"np.ndarray\")"
   ]
  },
  {
   "cell_type": "markdown",
   "metadata": {},
   "source": [
    "## 2. Example usage of `mlflow_sktime.save_model()`"
   ]
  },
  {
   "cell_type": "code",
   "execution_count": 26,
   "metadata": {},
   "outputs": [],
   "source": [
    "with mlflow.start_run():\n",
    "\n",
    "    forecaster = NaiveForecaster()\n",
    "    forecaster.fit(y_train, X_train)\n",
    "\n",
    "    mlflow_sktime.save_model(forecaster, model_path)"
   ]
  },
  {
   "cell_type": "markdown",
   "metadata": {},
   "source": [
    "# 3. Loading model in different flavors\n",
    "\n",
    "### 3.1 Native sktime flavor"
   ]
  },
  {
   "cell_type": "code",
   "execution_count": 27,
   "metadata": {},
   "outputs": [],
   "source": [
    "loaded_model = mlflow_sktime.load_model(model_path)"
   ]
  },
  {
   "cell_type": "markdown",
   "metadata": {},
   "source": [
    "### 3.2 Pyfunc flavor"
   ]
  },
  {
   "cell_type": "code",
   "execution_count": null,
   "metadata": {},
   "outputs": [],
   "source": [
    "loaded_pyfunc = mlflow_sktime.pyfunc.load_model(model_path)"
   ]
  },
  {
   "cell_type": "markdown",
   "metadata": {},
   "source": [
    "## 4. Example usage of sktime `predict()`\n",
    "\n",
    "### 4.1 Native sktime flavor"
   ]
  },
  {
   "cell_type": "code",
   "execution_count": null,
   "metadata": {},
   "outputs": [],
   "source": [
    "predictions = loaded_model.predict(fh=[1, 2, 3], X=X_test)\n",
    "predictions"
   ]
  },
  {
   "cell_type": "markdown",
   "metadata": {},
   "source": [
    "### 4.2 Pyfunc flavor"
   ]
  },
  {
   "cell_type": "code",
   "execution_count": null,
   "metadata": {},
   "outputs": [],
   "source": [
    "prediction_conf = pd.DataFrame(\n",
    "    [\n",
    "        {\n",
    "            \"predict_method\": \"predict\",\n",
    "            \"fh\": [1, 2, 3],\n",
    "            \"coverage\": [0.1, 0.9],\n",
    "            \"X\": X_test_array,\n",
    "        }\n",
    "    ]\n",
    ")\n",
    "predictions = loaded_pyfunc.predict(prediction_conf)\n",
    "predictions"
   ]
  },
  {
   "cell_type": "markdown",
   "metadata": {},
   "source": [
    "## 5. Example usage of sktime `predict_interval()`\n",
    "\n",
    "### 5.1 Native sktime flavor"
   ]
  },
  {
   "cell_type": "code",
   "execution_count": null,
   "metadata": {},
   "outputs": [],
   "source": [
    "predictions = loaded_model.predict_interval(fh=[1, 2, 3], coverage=[0.1, 0.9], X=X_test)\n",
    "predictions"
   ]
  },
  {
   "cell_type": "markdown",
   "metadata": {},
   "source": [
    "### 5.2 Pyfunc flavor"
   ]
  },
  {
   "cell_type": "code",
   "execution_count": null,
   "metadata": {},
   "outputs": [],
   "source": [
    "prediction_conf = pd.DataFrame(\n",
    "    [\n",
    "        {\n",
    "            \"predict_method\": \"predict_interval\",\n",
    "            \"fh\": [1, 2, 3],\n",
    "            \"coverage\": [0.1, 0.9],\n",
    "            \"X\": X_test_array,\n",
    "        }\n",
    "    ]\n",
    ")\n",
    "predictions = loaded_pyfunc.predict(prediction_conf)\n",
    "predictions"
   ]
  },
  {
   "cell_type": "markdown",
   "metadata": {},
   "source": [
    "## 6. Example usage of sktime `predict_quantiles()`\n",
    "\n",
    "### 6.1 Native sktime flavor"
   ]
  },
  {
   "cell_type": "code",
   "execution_count": null,
   "metadata": {},
   "outputs": [],
   "source": [
    "predictions = loaded_model.predict_quantiles(\n",
    "    fh=[1, 2, 3], alpha=[0.1, 0.5, 0.9], X=X_test\n",
    ")\n",
    "predictions"
   ]
  },
  {
   "cell_type": "markdown",
   "metadata": {},
   "source": [
    "### 6.2 Pyfunc flavor"
   ]
  },
  {
   "cell_type": "code",
   "execution_count": null,
   "metadata": {},
   "outputs": [],
   "source": [
    "prediction_conf = pd.DataFrame(\n",
    "    [\n",
    "        {\n",
    "            \"predict_method\": \"predict_quantiles\",\n",
    "            \"fh\": [1, 2, 3],\n",
    "            \"alpha\": [0.1, 0.5, 0.9],\n",
    "            \"X\": X_test_array,\n",
    "        }\n",
    "    ]\n",
    ")\n",
    "predictions = loaded_pyfunc.predict(prediction_conf)\n",
    "predictions"
   ]
  },
  {
   "cell_type": "markdown",
   "metadata": {},
   "source": [
    "## 7. Example usage of sktime `predict_var()`\n",
    "\n",
    "### 7.1 Native sktime flavor"
   ]
  },
  {
   "cell_type": "code",
   "execution_count": 28,
   "metadata": {},
   "outputs": [
    {
     "data": {
      "text/html": [
       "<div>\n",
       "<style scoped>\n",
       "    .dataframe tbody tr th:only-of-type {\n",
       "        vertical-align: middle;\n",
       "    }\n",
       "\n",
       "    .dataframe tbody tr th {\n",
       "        vertical-align: top;\n",
       "    }\n",
       "\n",
       "    .dataframe thead th {\n",
       "        text-align: right;\n",
       "    }\n",
       "</style>\n",
       "<table border=\"1\" class=\"dataframe\">\n",
       "  <thead>\n",
       "    <tr style=\"text-align: right;\">\n",
       "      <th></th>\n",
       "      <th>0</th>\n",
       "    </tr>\n",
       "  </thead>\n",
       "  <tbody>\n",
       "    <tr>\n",
       "      <th>1959</th>\n",
       "      <td>1.957628e+06</td>\n",
       "    </tr>\n",
       "    <tr>\n",
       "      <th>1960</th>\n",
       "      <td>3.915256e+06</td>\n",
       "    </tr>\n",
       "    <tr>\n",
       "      <th>1961</th>\n",
       "      <td>5.872885e+06</td>\n",
       "    </tr>\n",
       "  </tbody>\n",
       "</table>\n",
       "</div>"
      ],
      "text/plain": [
       "                 0\n",
       "1959  1.957628e+06\n",
       "1960  3.915256e+06\n",
       "1961  5.872885e+06"
      ]
     },
     "execution_count": 28,
     "metadata": {},
     "output_type": "execute_result"
    }
   ],
   "source": [
    "predictions = loaded_model.predict_var(fh=[1, 2, 3], X=X_test)\n",
    "predictions"
   ]
  },
  {
   "cell_type": "markdown",
   "metadata": {},
   "source": [
    "### 7.2 Pyfunc flavor"
   ]
  },
  {
   "cell_type": "code",
   "execution_count": 29,
   "metadata": {},
   "outputs": [
    {
     "data": {
      "text/html": [
       "<div>\n",
       "<style scoped>\n",
       "    .dataframe tbody tr th:only-of-type {\n",
       "        vertical-align: middle;\n",
       "    }\n",
       "\n",
       "    .dataframe tbody tr th {\n",
       "        vertical-align: top;\n",
       "    }\n",
       "\n",
       "    .dataframe thead th {\n",
       "        text-align: right;\n",
       "    }\n",
       "</style>\n",
       "<table border=\"1\" class=\"dataframe\">\n",
       "  <thead>\n",
       "    <tr style=\"text-align: right;\">\n",
       "      <th></th>\n",
       "      <th>0</th>\n",
       "    </tr>\n",
       "  </thead>\n",
       "  <tbody>\n",
       "    <tr>\n",
       "      <th>1959</th>\n",
       "      <td>1.957628e+06</td>\n",
       "    </tr>\n",
       "    <tr>\n",
       "      <th>1960</th>\n",
       "      <td>3.915256e+06</td>\n",
       "    </tr>\n",
       "    <tr>\n",
       "      <th>1961</th>\n",
       "      <td>5.872885e+06</td>\n",
       "    </tr>\n",
       "  </tbody>\n",
       "</table>\n",
       "</div>"
      ],
      "text/plain": [
       "                 0\n",
       "1959  1.957628e+06\n",
       "1960  3.915256e+06\n",
       "1961  5.872885e+06"
      ]
     },
     "execution_count": 29,
     "metadata": {},
     "output_type": "execute_result"
    }
   ],
   "source": [
    "prediction_conf = pd.DataFrame(\n",
    "    [{\"predict_method\": \"predict_var\", \"fh\": [1, 2, 3], \"X\": X_test_array}]\n",
    ")\n",
    "predictions = loaded_pyfunc.predict(prediction_conf)\n",
    "predictions"
   ]
  },
  {
   "cell_type": "markdown",
   "metadata": {},
   "source": [
    "## 8. Model deployment example\n",
    "\n",
    "### 8.1 Create experiment"
   ]
  },
  {
   "cell_type": "code",
   "execution_count": 93,
   "metadata": {},
   "outputs": [
    {
     "name": "stdout",
     "output_type": "stream",
     "text": [
      "MLflow run id: 99b7ea689b0843889e3b181030fc44cf\n"
     ]
    }
   ],
   "source": [
    "artifact_path = \"model\"\n",
    "\n",
    "mlflow.set_experiment(\"Test Sktime\")\n",
    "\n",
    "with mlflow.start_run() as run:\n",
    "\n",
    "    forecaster = NaiveForecaster()\n",
    "    forecaster.fit(y_train, X_train)\n",
    "\n",
    "    mlflow_sktime.log_model(sktime_model=forecaster, artifact_path=artifact_path)\n",
    "\n",
    "run_id = run.info.run_id\n",
    "print(f\"MLflow run id: {run_id}\")"
   ]
  },
  {
   "cell_type": "markdown",
   "metadata": {},
   "source": [
    "### 8.2 Deploy pyfunc model to local REST API endpoint\n",
    "- Open a terminal window and cd into `examples`directory\n",
    "- In the terminal run: `mlflow models serve -m runs:/<RUN_ID>/model --env-manager local --host <HOST>`\n",
    "    - where you substitute `<RUN_ID>` by the `run_id` and `<HOST>` by the network address to listen on (e.g. `127.0.0.2`) \n",
    "- More details here: https://www.mlflow.org/docs/latest/cli.html#mlflow-models-serve"
   ]
  },
  {
   "cell_type": "markdown",
   "metadata": {},
   "source": [
    "### 8.3 Request predictions from local REST API endpoint\n",
    "\n",
    "- For mor details see: https://www.mlflow.org/docs/latest/models.html#built-in-deployment-tools\n",
    "\n",
    "#### 8.3.1 JSON input using `dataframe_split` field with pandas DataFrame in the `split` orientation"
   ]
  },
  {
   "cell_type": "code",
   "execution_count": 88,
   "metadata": {},
   "outputs": [
    {
     "name": "stdout",
     "output_type": "stream",
     "text": [
      "{'dataframe_split': {'index': [0], 'columns': ['predict_method', 'fh'], 'data': [['predict', 1]]}}\n"
     ]
    },
    {
     "data": {
      "text/plain": [
       "{'predictions': [{'0': 66513.0}]}"
      ]
     },
     "execution_count": 88,
     "metadata": {},
     "output_type": "execute_result"
    }
   ],
   "source": [
    "# host = \"127.0.0.2\"\n",
    "# url = f\"http://{host}:5000/invocations\"\n",
    "\n",
    "# prediction_conf = pd.DataFrame([{\"predict_method\": \"predict\", \"fh\": 1}])\n",
    "# json_data = {\"dataframe_split\": prediction_conf.to_dict(orient=\"split\")}\n",
    "# print(json_data)\n",
    "\n",
    "# import requests\n",
    "# response = requests.post(url, json=json_data)\n",
    "# response.json()"
   ]
  },
  {
   "cell_type": "markdown",
   "metadata": {},
   "source": [
    "#### 8.3.1 JSON input using `dataframe_records` field with pandas DataFrame in the `records` orientation"
   ]
  },
  {
   "cell_type": "code",
   "execution_count": 91,
   "metadata": {},
   "outputs": [
    {
     "name": "stdout",
     "output_type": "stream",
     "text": [
      "{'dataframe_records': [{'predict_method': 'predict', 'fh': 1}]}\n"
     ]
    },
    {
     "data": {
      "text/plain": [
       "{'predictions': [{'0': 66513.0}]}"
      ]
     },
     "execution_count": 91,
     "metadata": {},
     "output_type": "execute_result"
    }
   ],
   "source": [
    "# json_data = {\n",
    "#     \"dataframe_records\": prediction_conf.to_dict(orient=\"records\")\n",
    "# }\n",
    "# print(json_data)\n",
    "\n",
    "# response = requests.post(url, json=json_data)\n",
    "# response.json()"
   ]
  },
  {
   "cell_type": "markdown",
   "metadata": {},
   "source": [
    "#### 8.3.2 CSV input using valid `pd.DataFrame` csv representation"
   ]
  },
  {
   "cell_type": "code",
   "execution_count": 92,
   "metadata": {},
   "outputs": [
    {
     "name": "stdout",
     "output_type": "stream",
     "text": [
      ",predict_method,fh\n",
      "0,predict,1\n",
      "\n"
     ]
    },
    {
     "data": {
      "text/plain": [
       "{'predictions': [{'0': 66513.0}]}"
      ]
     },
     "execution_count": 92,
     "metadata": {},
     "output_type": "execute_result"
    }
   ],
   "source": [
    "# headers = {\n",
    "#     \"Content-Type\": \"text/csv\",\n",
    "# }\n",
    "# data = prediction_conf.to_csv()\n",
    "# print(data)\n",
    "\n",
    "# response = requests.post(url, headers=headers, data=data)\n",
    "# response.json()"
   ]
  }
 ],
 "metadata": {
  "kernelspec": {
   "display_name": "Python 3 (ipykernel)",
   "language": "python",
   "name": "python3"
  },
  "language_info": {
   "codemirror_mode": {
    "name": "ipython",
    "version": 3
   },
   "file_extension": ".py",
   "mimetype": "text/x-python",
   "name": "python",
   "nbconvert_exporter": "python",
   "pygments_lexer": "ipython3",
   "version": "3.8.15"
  }
 },
 "nbformat": 4,
 "nbformat_minor": 2
}
